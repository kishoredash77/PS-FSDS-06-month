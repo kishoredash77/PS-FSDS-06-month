{
 "cells": [
  {
   "cell_type": "code",
   "execution_count": 1,
   "id": "f9daf90f-42d2-414f-a7e6-04f1e8051b39",
   "metadata": {},
   "outputs": [
    {
     "name": "stdout",
     "output_type": "stream",
     "text": [
      "3\n"
     ]
    }
   ],
   "source": [
    "print(1+2)# addition(+)"
   ]
  },
  {
   "cell_type": "code",
   "execution_count": 2,
   "id": "66de8901-b2e9-4102-9f29-db1f7537b40a",
   "metadata": {},
   "outputs": [
    {
     "name": "stdout",
     "output_type": "stream",
     "text": [
      "1.5\n"
     ]
    }
   ],
   "source": [
    "print(3 / 2) Substraction"
   ]
  },
  {
   "cell_type": "code",
   "execution_count": 3,
   "id": "bcaa640b-93ac-4f0b-a9ff-3bd26eeaaf5a",
   "metadata": {},
   "outputs": [
    {
     "name": "stdout",
     "output_type": "stream",
     "text": [
      "1\n"
     ]
    }
   ],
   "source": [
    "print(3 % 2)"
   ]
  },
  {
   "cell_type": "code",
   "execution_count": 4,
   "id": "21e39e7e-92f2-46f0-9e5c-9c2a072e99b8",
   "metadata": {},
   "outputs": [
    {
     "name": "stdout",
     "output_type": "stream",
     "text": [
      "1\n"
     ]
    }
   ],
   "source": [
    "print(3 // 2)"
   ]
  },
  {
   "cell_type": "code",
   "execution_count": 5,
   "id": "ed3a9706-9ebe-44c6-a938-3db140ab39ee",
   "metadata": {},
   "outputs": [
    {
     "name": "stdout",
     "output_type": "stream",
     "text": [
      "<class 'int'>\n"
     ]
    }
   ],
   "source": [
    "#data types\n",
    "print(type(10))\n"
   ]
  },
  {
   "cell_type": "code",
   "execution_count": 6,
   "id": "7f810dc2-33ca-452b-895b-9e66672a0f29",
   "metadata": {},
   "outputs": [
    {
     "name": "stdout",
     "output_type": "stream",
     "text": [
      "<class 'float'>\n"
     ]
    }
   ],
   "source": [
    "print(type(3.14))"
   ]
  },
  {
   "cell_type": "code",
   "execution_count": 7,
   "id": "31fa9f42-59f8-4c65-b0d9-affb901a5fb7",
   "metadata": {},
   "outputs": [
    {
     "name": "stdout",
     "output_type": "stream",
     "text": [
      "<class 'complex'>\n"
     ]
    }
   ],
   "source": [
    "print(type(1 + 3j))"
   ]
  },
  {
   "cell_type": "code",
   "execution_count": 8,
   "id": "9aec28b1-0caf-4d7d-8937-171ef23ab1bc",
   "metadata": {},
   "outputs": [
    {
     "name": "stdout",
     "output_type": "stream",
     "text": [
      "<class 'str'>\n"
     ]
    }
   ],
   "source": [
    "print(type('Kishore'))"
   ]
  },
  {
   "cell_type": "code",
   "execution_count": 9,
   "id": "73a2c38e-1228-406f-8f3a-178e86c6269e",
   "metadata": {},
   "outputs": [
    {
     "name": "stdout",
     "output_type": "stream",
     "text": [
      "<class 'list'>\n"
     ]
    }
   ],
   "source": [
    "print(type([1, 2, 3]))"
   ]
  },
  {
   "cell_type": "code",
   "execution_count": 10,
   "id": "4443936b-3471-40cd-8e20-33fafd08ad77",
   "metadata": {},
   "outputs": [
    {
     "name": "stdout",
     "output_type": "stream",
     "text": [
      "<class 'dict'>\n"
     ]
    }
   ],
   "source": [
    "print(type({'name':'Kishoret'}))"
   ]
  },
  {
   "cell_type": "code",
   "execution_count": 11,
   "id": "2e58bdcc-41a4-471b-a054-878db1e58e6c",
   "metadata": {},
   "outputs": [
    {
     "name": "stdout",
     "output_type": "stream",
     "text": [
      "<class 'set'>\n"
     ]
    }
   ],
   "source": [
    "print(type({9.8, 3.14, 2.7}))"
   ]
  },
  {
   "cell_type": "code",
   "execution_count": 12,
   "id": "d15d765e-2d01-48e1-bc12-e882b5ace196",
   "metadata": {},
   "outputs": [
    {
     "name": "stdout",
     "output_type": "stream",
     "text": [
      "<class 'bool'>\n"
     ]
    }
   ],
   "source": [
    "print(type(3 == 3))"
   ]
  },
  {
   "cell_type": "code",
   "execution_count": 13,
   "id": "0efc12f7-7bd0-4ebe-9a6a-8dca867e315f",
   "metadata": {},
   "outputs": [
    {
     "name": "stdout",
     "output_type": "stream",
     "text": [
      "<class 'bool'>\n"
     ]
    }
   ],
   "source": [
    "print(type(3 >= 3))"
   ]
  },
  {
   "cell_type": "code",
   "execution_count": 14,
   "id": "60907b36-3c79-49a5-a2ba-fd927a6d9097",
   "metadata": {},
   "outputs": [
    {
     "name": "stdout",
     "output_type": "stream",
     "text": [
      "Addition:  3\n"
     ]
    }
   ],
   "source": [
    "print('Addition: ', 1 + 2)"
   ]
  },
  {
   "cell_type": "code",
   "execution_count": 15,
   "id": "e8ff98d7-9da0-4970-beb0-757495529873",
   "metadata": {},
   "outputs": [
    {
     "name": "stdout",
     "output_type": "stream",
     "text": [
      "Subtraction:  2\n"
     ]
    }
   ],
   "source": [
    "print('Subtraction: ', 3 - 1)"
   ]
  },
  {
   "cell_type": "code",
   "execution_count": 16,
   "id": "136f763a-1666-4b9d-8b76-f69fd591dfb2",
   "metadata": {},
   "outputs": [
    {
     "name": "stdout",
     "output_type": "stream",
     "text": [
      "Multiplication:  15\n"
     ]
    }
   ],
   "source": [
    "print('Multiplication: ', 5 * 3)"
   ]
  },
  {
   "cell_type": "code",
   "execution_count": 17,
   "id": "9dabb9a0-bbb9-40ac-83d2-0d9605e2d8c1",
   "metadata": {},
   "outputs": [
    {
     "name": "stdout",
     "output_type": "stream",
     "text": [
      "Division:  1.0\n"
     ]
    }
   ],
   "source": [
    "print ('Division: ', 4 / 4)"
   ]
  },
  {
   "cell_type": "code",
   "execution_count": 18,
   "id": "4ed67557-91b2-43a5-ba1b-516e87f2e4f5",
   "metadata": {},
   "outputs": [
    {
     "name": "stdout",
     "output_type": "stream",
     "text": [
      "Division without the remainder:  3\n"
     ]
    }
   ],
   "source": [
    "print('Division without the remainder: ', 7 // 2)"
   ]
  },
  {
   "cell_type": "code",
   "execution_count": 19,
   "id": "96626ab9-f02b-44f7-8a5c-cff2407ff879",
   "metadata": {},
   "outputs": [
    {
     "name": "stdout",
     "output_type": "stream",
     "text": [
      "Exponential:  262144\n"
     ]
    }
   ],
   "source": [
    "print('Exponential: ', 4 ** 9)"
   ]
  },
  {
   "cell_type": "code",
   "execution_count": 20,
   "id": "a71aaa0c-d96a-4895-91ea-4da16d339dc4",
   "metadata": {},
   "outputs": [
    {
     "name": "stdout",
     "output_type": "stream",
     "text": [
      "Floating Number,PI 2.34\n"
     ]
    }
   ],
   "source": [
    "#Floating numbers\n",
    "print('Floating Number,PI', 2.34)"
   ]
  },
  {
   "cell_type": "code",
   "execution_count": 21,
   "id": "ee4a9a6d-fa2d-4280-b3c9-0c771cc51b42",
   "metadata": {},
   "outputs": [
    {
     "name": "stdout",
     "output_type": "stream",
     "text": [
      "Floating Number, gravity 73.7\n"
     ]
    }
   ],
   "source": [
    "print('Floating Number, gravity', 73.7)"
   ]
  },
  {
   "cell_type": "code",
   "execution_count": 22,
   "id": "751fff65-b7b3-4bf1-8fa9-ce4ce92901dc",
   "metadata": {},
   "outputs": [
    {
     "name": "stdout",
     "output_type": "stream",
     "text": [
      "Complex number:  (1+1j)\n"
     ]
    }
   ],
   "source": [
    "#Complex numbers\n",
    "\n",
    "print('Complex number: ', 1 + 1j)"
   ]
  },
  {
   "cell_type": "code",
   "execution_count": 23,
   "id": "3f6d1057-cc9a-431e-b7bd-a652ac086cd8",
   "metadata": {},
   "outputs": [
    {
     "name": "stdout",
     "output_type": "stream",
     "text": [
      "Multiplying complex number:  (2+0j)\n"
     ]
    }
   ],
   "source": [
    "print('Multiplying complex number: ',(1 + 1j) * (1-1j))"
   ]
  },
  {
   "cell_type": "code",
   "execution_count": 24,
   "id": "ae4beaba-2447-47b7-8c1e-66246d571692",
   "metadata": {},
   "outputs": [
    {
     "name": "stdout",
     "output_type": "stream",
     "text": [
      "Area of a circle: 2640.7400000000002\n"
     ]
    }
   ],
   "source": [
    "#Calculating area of a circle\n",
    "radius = 29\n",
    "area_of_circle = 3.14 * radius ** 2\n",
    "print('Area of a circle:', area_of_circle)"
   ]
  },
  {
   "cell_type": "code",
   "execution_count": 25,
   "id": "7ecec2e8-7c7c-44dd-9f48-adabb086e342",
   "metadata": {},
   "outputs": [
    {
     "name": "stdout",
     "output_type": "stream",
     "text": [
      "Area of rectangle: 200\n"
     ]
    }
   ],
   "source": [
    "#Calculating area of a rectangle\n",
    "\n",
    "length = 10\n",
    "width = 20\n",
    "area_of_rectangle = length * width\n",
    "print('Area of rectangle:', area_of_rectangle)"
   ]
  },
  {
   "cell_type": "code",
   "execution_count": 26,
   "id": "2866664a-08e9-4fc4-9a3c-d522e831a553",
   "metadata": {},
   "outputs": [
    {
     "name": "stdout",
     "output_type": "stream",
     "text": [
      "735.75 N\n"
     ]
    }
   ],
   "source": [
    "#Calculating a weight of an object\n",
    "\n",
    "mass = 75\n",
    "gravity = 9.81\n",
    "weight = mass * gravity\n",
    "print(weight, 'N')"
   ]
  },
  {
   "cell_type": "code",
   "execution_count": 30,
   "id": "29919ddf-503c-446e-96fb-88e805878b44",
   "metadata": {},
   "outputs": [
    {
     "name": "stdout",
     "output_type": "stream",
     "text": [
      "True == True:  True\n",
      "True == False:  False\n",
      "False == False: True\n",
      "True and True:  True\n",
      "True or False: True\n"
     ]
    }
   ],
   "source": [
    "print('True == True: ', True == True)\n",
    "print('True == False: ', True == False)\n",
    "print('False == False:', False == False)\n",
    "print('True and True: ', True and True)\n",
    "print('True or False:', True or False)"
   ]
  },
  {
   "cell_type": "code",
   "execution_count": 31,
   "id": "da46c951-caa6-495d-a76e-74e9d2278a31",
   "metadata": {},
   "outputs": [
    {
     "name": "stdout",
     "output_type": "stream",
     "text": [
      "First name: Kishore\n",
      "First name length: 7\n",
      "Last name:  Dash\n",
      "Last name length:  4\n",
      "Country:  INDIA\n",
      "City:  MBJ\n",
      "Age:  32\n",
      "Married:  False\n",
      "Skills:  ['SQL', 'PHP', 'DD']\n",
      "Person information:  {'firstname': 'Kishore', 'lastname': 'dash', 'country': 'MBJ', 'city': 'kendrapada'}\n"
     ]
    }
   ],
   "source": [
    "#Variables in Python\n",
    "\n",
    "first_name = 'Kishore'\n",
    "last_name = 'Dash'\n",
    "country = 'INDIA'\n",
    "city = 'MBJ'\n",
    "age = 32\n",
    "is_married = False\n",
    "skills = ['SQL', 'PHP', 'DD']\n",
    "person_info = {\n",
    "'firstname':'Kishore',\n",
    "'lastname':'dash',\n",
    "'country':'MBJ',\n",
    "\n",
    "'city':'kendrapada'\n",
    "}\n",
    "print('First name:', first_name)\n",
    "print('First name length:', len(first_name))\n",
    "print('Last name: ', last_name)\n",
    "print('Last name length: ', len(last_name))\n",
    "print('Country: ', country)\n",
    "print('City: ', city)\n",
    "print('Age: ', age)\n",
    "print('Married: ', is_married)\n",
    "print('Skills: ', skills)\n",
    "print('Person information: ', person_info)"
   ]
  },
  {
   "cell_type": "code",
   "execution_count": null,
   "id": "fd8f11dc-026f-4b79-9e34-aac28d2ed13b",
   "metadata": {},
   "outputs": [],
   "source": []
  }
 ],
 "metadata": {
  "kernelspec": {
   "display_name": "Python 3 (ipykernel)",
   "language": "python",
   "name": "python3"
  },
  "language_info": {
   "codemirror_mode": {
    "name": "ipython",
    "version": 3
   },
   "file_extension": ".py",
   "mimetype": "text/x-python",
   "name": "python",
   "nbconvert_exporter": "python",
   "pygments_lexer": "ipython3",
   "version": "3.12.7"
  }
 },
 "nbformat": 4,
 "nbformat_minor": 5
}
